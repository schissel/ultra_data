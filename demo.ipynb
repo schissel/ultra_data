{
 "metadata": {
  "name": "",
  "signature": "sha256:3117c3ec0791854bf3b33a211ed534afc7895057ab353ad0837f1217b7e3c163"
 },
 "nbformat": 3,
 "nbformat_minor": 0,
 "worksheets": [
  {
   "cells": [
    {
     "cell_type": "code",
     "collapsed": false,
     "input": [
      "import pandas as pd\n",
      "import numpy as np\n",
      "import pylab as plt\n",
      "\n",
      "%matplotlib inline"
     ],
     "language": "python",
     "metadata": {},
     "outputs": [],
     "prompt_number": 1
    },
    {
     "cell_type": "code",
     "collapsed": false,
     "input": [
      "sample = np.arange(35)\n",
      "print sample"
     ],
     "language": "python",
     "metadata": {},
     "outputs": [
      {
       "output_type": "stream",
       "stream": "stdout",
       "text": [
        "[ 0  1  2  3  4  5  6  7  8  9 10 11 12 13 14 15 16 17 18 19 20 21 22 23 24\n",
        " 25 26 27 28 29 30 31 32 33 34]\n"
       ]
      }
     ],
     "prompt_number": 2
    },
    {
     "cell_type": "code",
     "collapsed": false,
     "input": [
      "plt.plot(sample)"
     ],
     "language": "python",
     "metadata": {},
     "outputs": [
      {
       "metadata": {},
       "output_type": "pyout",
       "prompt_number": 3,
       "text": [
        "[<matplotlib.lines.Line2D at 0x1078eb990>]"
       ]
      },
      {
       "metadata": {},
       "output_type": "display_data",
       "png": "[encoded data removed]",
       "text": [
        "<matplotlib.figure.Figure at 0x104482790>"
       ]
      }
     ],
     "prompt_number": 3
    },
    {
     "cell_type": "code",
     "collapsed": false,
     "input": [
      "x = np.random.sample(100)\n",
      "y = np.random.sample(100)"
     ],
     "language": "python",
     "metadata": {},
     "outputs": [],
     "prompt_number": 4
    },
    {
     "cell_type": "code",
     "collapsed": false,
     "input": [
      "plt.scatter(x,y)"
     ],
     "language": "python",
     "metadata": {},
     "outputs": [
      {
       "metadata": {},
       "output_type": "pyout",
       "prompt_number": 5,
       "text": [
        "<matplotlib.collections.PathCollection at 0x107b5f250>"
       ]
      },
      {
       "metadata": {},
       "output_type": "display_data",
       "png": "[encoded data removed]",
       "text": [
        "<matplotlib.figure.Figure at 0x10791c350>"
       ]
      }
     ],
     "prompt_number": 5
    },
    {
     "cell_type": "code",
     "collapsed": false,
     "input": [
      "#### What's my current working directory?\n",
      "\n",
      "!pwd"
     ],
     "language": "python",
     "metadata": {},
     "outputs": [
      {
       "output_type": "stream",
       "stream": "stdout",
       "text": [
        "/Users/jschisse/Desktop\r\n"
       ]
      }
     ],
     "prompt_number": 6
    },
    {
     "cell_type": "code",
     "collapsed": false,
     "input": [
      "a = [1,2,3,4,5,6]"
     ],
     "language": "python",
     "metadata": {},
     "outputs": [],
     "prompt_number": 7
    },
    {
     "cell_type": "code",
     "collapsed": false,
     "input": [
      "### What is the syntax for using the extend method for a list?\n",
      "a.extend?"
     ],
     "language": "python",
     "metadata": {},
     "outputs": [],
     "prompt_number": 8
    },
    {
     "cell_type": "code",
     "collapsed": false,
     "input": [
      "inv = pd.read_table('/Users/jschisse/Downloads/train.csv')"
     ],
     "language": "python",
     "metadata": {},
     "outputs": [],
     "prompt_number": 34
    },
    {
     "cell_type": "code",
     "collapsed": false,
     "input": [
      "inv.bfill?"
     ],
     "language": "python",
     "metadata": {},
     "outputs": [],
     "prompt_number": 35
    },
    {
     "cell_type": "code",
     "collapsed": false,
     "input": [
      "inv.hist"
     ],
     "language": "python",
     "metadata": {},
     "outputs": [
      {
       "metadata": {},
       "output_type": "pyout",
       "prompt_number": 32,
       "text": [
        "<bound method DataFrame.hist_frame of          image,level\n",
        "         image,level\n",
        "0          10_left,0\n",
        "1         10_right,0\n",
        "2          13_left,0\n",
        "3         13_right,0\n",
        "4          15_left,1\n",
        "5         15_right,2\n",
        "6          16_left,4\n",
        "7         16_right,4\n",
        "8          17_left,0\n",
        "9         17_right,1\n",
        "10         19_left,0\n",
        "11        19_right,0\n",
        "12         20_left,0\n",
        "13        20_right,0\n",
        "14         21_left,0\n",
        "15        21_right,0\n",
        "16         22_left,0\n",
        "17        22_right,0\n",
        "18         23_left,0\n",
        "19        23_right,0\n",
        "20         25_left,0\n",
        "21        25_right,0\n",
        "22         30_left,1\n",
        "23        30_right,2\n",
        "24         31_left,0\n",
        "25        31_right,0\n",
        "26         33_left,0\n",
        "27        33_right,0\n",
        "28         36_left,1\n",
        "29        36_right,0\n",
        "...              ...\n",
        "35096   44317_left,0\n",
        "35097  44317_right,0\n",
        "35098   44323_left,1\n",
        "35099  44323_right,1\n",
        "35100   44325_left,0\n",
        "35101  44325_right,0\n",
        "35102   44327_left,0\n",
        "35103  44327_right,0\n",
        "35104   44328_left,0\n",
        "35105  44328_right,1\n",
        "35106   44330_left,0\n",
        "35107  44330_right,0\n",
        "35108   44331_left,0\n",
        "35109  44331_right,0\n",
        "35110   44334_left,0\n",
        "35111  44334_right,0\n",
        "35112   44337_left,1\n",
        "35113  44337_right,0\n",
        "35114   44338_left,0\n",
        "35115  44338_right,0\n",
        "35116   44339_left,0\n",
        "35117  44339_right,0\n",
        "35118   44343_left,0\n",
        "35119  44343_right,0\n",
        "35120   44347_left,0\n",
        "35121  44347_right,0\n",
        "35122   44348_left,0\n",
        "35123  44348_right,0\n",
        "35124   44349_left,0\n",
        "35125  44349_right,1\n",
        "\n",
        "[35126 rows x 1 columns]>"
       ]
      }
     ],
     "prompt_number": 32
    },
    {
     "cell_type": "code",
     "collapsed": false,
     "input": [
      "### Can we get some summary statistics?"
     ],
     "language": "python",
     "metadata": {},
     "outputs": [],
     "prompt_number": 33
    },
    {
     "cell_type": "code",
     "collapsed": false,
     "input": [
      "inv.describe()\n",
      "\n",
      "### How can we get a very basic line plot to see what our data looks like?"
     ],
     "language": "python",
     "metadata": {},
     "outputs": [
      {
       "html": [
        "<div style=\"max-height:1000px;max-width:1500px;overflow:auto;\">\n",
        "<table border=\"1\" class=\"dataframe\">\n",
        "  <thead>\n",
        "    <tr style=\"text-align: right;\">\n",
        "      <th></th>\n",
        "      <th>datetime,season,holiday,workingday,weather,temp,atemp,humidity,windspeed,casual,registered,count</th>\n",
        "    </tr>\n",
        "  </thead>\n",
        "  <tbody>\n",
        "    <tr>\n",
        "      <th>count</th>\n",
        "      <td>                                             10886</td>\n",
        "    </tr>\n",
        "    <tr>\n",
        "      <th>unique</th>\n",
        "      <td>                                             10886</td>\n",
        "    </tr>\n",
        "    <tr>\n",
        "      <th>top</th>\n",
        "      <td> 2011-03-13 04:00:00,1,0,0,1,13.94,16.665,66,11...</td>\n",
        "    </tr>\n",
        "    <tr>\n",
        "      <th>freq</th>\n",
        "      <td>                                                 1</td>\n",
        "    </tr>\n",
        "  </tbody>\n",
        "</table>\n",
        "</div>"
       ],
       "metadata": {},
       "output_type": "pyout",
       "prompt_number": 36,
       "text": [
        "       datetime,season,holiday,workingday,weather,temp,atemp,humidity,windspeed,casual,registered,count\n",
        "count                                               10886                                              \n",
        "unique                                              10886                                              \n",
        "top     2011-03-13 04:00:00,1,0,0,1,13.94,16.665,66,11...                                              \n",
        "freq                                                    1                                              "
       ]
      }
     ],
     "prompt_number": 36
    },
    {
     "cell_type": "code",
     "collapsed": false,
     "input": [
      "### How can we look at just recent invitation activity? Let's take a peek at it?\n",
      "\n",
      "inv_recent = inv[inv['date'] > '2014/10/01']\n",
      "inv_recent.plot(x=inv_recent['date'], rot=90)\n",
      "a.plot()"
     ],
     "language": "python",
     "metadata": {},
     "outputs": [
      {
       "metadata": {},
       "output_type": "pyout",
       "prompt_number": 26,
       "text": [
        "<matplotlib.axes.AxesSubplot at 0x10a9ccd90>"
       ]
      },
      {
       "metadata": {},
       "output_type": "display_data",
       "png": "[encoded data removed]",
       "text": [
        "<matplotlib.figure.Figure at 0x10a9d7d90>"
       ]
      }
     ],
     "prompt_number": 26
    },
    {
     "cell_type": "code",
     "collapsed": false,
     "input": [
      "a = pd.rolling_mean(inv_recent['invites'], 7)"
     ],
     "language": "python",
     "metadata": {},
     "outputs": [],
     "prompt_number": 27
    },
    {
     "cell_type": "code",
     "collapsed": false,
     "input": [
      "a.plot(rot=90)\n",
      "plt.ylim(0,6000000)"
     ],
     "language": "python",
     "metadata": {},
     "outputs": [
      {
       "metadata": {},
       "output_type": "pyout",
       "prompt_number": 33,
       "text": [
        "(0, 6000000)"
       ]
      },
      {
       "metadata": {},
       "output_type": "display_data",
       "png": "[encoded data removed]",
       "text": [
        "<matplotlib.figure.Figure at 0x10b0d00d0>"
       ]
      }
     ],
     "prompt_number": 33
    },
    {
     "cell_type": "code",
     "collapsed": false,
     "input": [],
     "language": "python",
     "metadata": {},
     "outputs": []
    }
   ],
   "metadata": {}
  }
 ]
}